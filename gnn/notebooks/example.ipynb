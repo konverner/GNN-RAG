{
 "cells": [
  {
   "cell_type": "code",
   "id": "initial_id",
   "metadata": {
    "collapsed": true,
    "ExecuteTime": {
     "end_time": "2024-06-09T21:16:07.060331Z",
     "start_time": "2024-06-09T21:16:04.836488Z"
    }
   },
   "source": "from gnn.models.GraftNet.graftnet import GraftNet",
   "outputs": [],
   "execution_count": 1
  },
  {
   "metadata": {
    "ExecuteTime": {
     "end_time": "2024-06-09T21:21:23.821907Z",
     "start_time": "2024-06-09T21:21:08.295645Z"
    }
   },
   "cell_type": "code",
   "source": [
    "args = {\n",
    "    \"lm\": \"sbert\",\n",
    "    \"num_layer\": 2,\n",
    "    \"loss_type\": \"bce\",\n",
    "    \"model_name\": \"GraftNet\",\n",
    "    \"norm_rel\": \"store_true\",\n",
    "    \"pagerank_lambda\": 0.8,\n",
    "    \"kge_frozen\": 0,\n",
    "    \"kg_dim\": 100,\n",
    "    \"entity_emb_file\": None,\n",
    "    \"relation_emb_file\": None,\n",
    "    \"relation_word_emb\": None,\n",
    "    \"word_emb_file\": None,\n",
    "    \"entity_dim\": 50,\n",
    "    \"word_dim\": 300,\n",
    "    \"use_cuda\": False,\n",
    "    \"eps\": 0.95,\n",
    "    \"linear_dropout\": 0.2,\n",
    "    \"normalized_gnn\": False,\n",
    "    \"fact_scale\": 3,\n",
    "    \"q_type\": \"seq\",\n",
    "    \"lm_dropout\": 0.3,\n",
    "    \"lm_frozen\": True\n",
    "}\n",
    "\n",
    "graft_net = GraftNet(args, num_entity=10, num_relation=8, num_word=5)"
   ],
   "id": "7b2f731463eebd5d",
   "outputs": [
    {
     "name": "stdout",
     "output_type": "stream",
     "text": [
      "Num Word 5\n",
      "Entity: 10, Relation: 8, Word: 5\n"
     ]
    },
    {
     "data": {
      "text/plain": [
       "Downloading:   0%|          | 0.00/612 [00:00<?, ?B/s]"
      ],
      "application/vnd.jupyter.widget-view+json": {
       "version_major": 2,
       "version_minor": 0,
       "model_id": "1f46473832c94fd5a3cb9cca9471e52c"
      },
      "application/json": {
       "n": 0,
       "total": 612,
       "elapsed": 0.0,
       "ncols": null,
       "nrows": null,
       "prefix": "Downloading",
       "ascii": false,
       "unit": "B",
       "unit_scale": true,
       "rate": null,
       "bar_format": null,
       "postfix": null,
       "unit_divisor": 1000,
       "initial": 0,
       "colour": null
      }
     },
     "metadata": {},
     "output_type": "display_data"
    },
    {
     "data": {
      "text/plain": [
       "Downloading:   0%|          | 0.00/232k [00:00<?, ?B/s]"
      ],
      "application/vnd.jupyter.widget-view+json": {
       "version_major": 2,
       "version_minor": 0,
       "model_id": "77f2bc487a8349068f881b8cc0f27e8d"
      },
      "application/json": {
       "n": 0,
       "total": 231508,
       "elapsed": 0.015996217727661133,
       "ncols": null,
       "nrows": null,
       "prefix": "Downloading",
       "ascii": false,
       "unit": "B",
       "unit_scale": true,
       "rate": null,
       "bar_format": null,
       "postfix": null,
       "unit_divisor": 1000,
       "initial": 0,
       "colour": null
      }
     },
     "metadata": {},
     "output_type": "display_data"
    },
    {
     "data": {
      "text/plain": [
       "Downloading:   0%|          | 0.00/466k [00:00<?, ?B/s]"
      ],
      "application/vnd.jupyter.widget-view+json": {
       "version_major": 2,
       "version_minor": 0,
       "model_id": "8ac1c3b6e70c421399fd842b7b0cf0c0"
      },
      "application/json": {
       "n": 0,
       "total": 466247,
       "elapsed": 0.009008646011352539,
       "ncols": null,
       "nrows": null,
       "prefix": "Downloading",
       "ascii": false,
       "unit": "B",
       "unit_scale": true,
       "rate": null,
       "bar_format": null,
       "postfix": null,
       "unit_divisor": 1000,
       "initial": 0,
       "colour": null
      }
     },
     "metadata": {},
     "output_type": "display_data"
    },
    {
     "data": {
      "text/plain": [
       "Downloading:   0%|          | 0.00/112 [00:00<?, ?B/s]"
      ],
      "application/vnd.jupyter.widget-view+json": {
       "version_major": 2,
       "version_minor": 0,
       "model_id": "7792467dcc704a8cbf58b3cc5336239e"
      },
      "application/json": {
       "n": 0,
       "total": 112,
       "elapsed": 0.0030007362365722656,
       "ncols": null,
       "nrows": null,
       "prefix": "Downloading",
       "ascii": false,
       "unit": "B",
       "unit_scale": true,
       "rate": null,
       "bar_format": null,
       "postfix": null,
       "unit_divisor": 1000,
       "initial": 0,
       "colour": null
      }
     },
     "metadata": {},
     "output_type": "display_data"
    },
    {
     "data": {
      "text/plain": [
       "Downloading:   0%|          | 0.00/350 [00:00<?, ?B/s]"
      ],
      "application/vnd.jupyter.widget-view+json": {
       "version_major": 2,
       "version_minor": 0,
       "model_id": "ca1918d5db984622a293a9095c60b419"
      },
      "application/json": {
       "n": 0,
       "total": 350,
       "elapsed": 0.003518342971801758,
       "ncols": null,
       "nrows": null,
       "prefix": "Downloading",
       "ascii": false,
       "unit": "B",
       "unit_scale": true,
       "rate": null,
       "bar_format": null,
       "postfix": null,
       "unit_divisor": 1000,
       "initial": 0,
       "colour": null
      }
     },
     "metadata": {},
     "output_type": "display_data"
    },
    {
     "name": "stdout",
     "output_type": "stream",
     "text": [
      "word_dim 384\n"
     ]
    },
    {
     "data": {
      "text/plain": [
       "Downloading:   0%|          | 0.00/90.9M [00:00<?, ?B/s]"
      ],
      "application/vnd.jupyter.widget-view+json": {
       "version_major": 2,
       "version_minor": 0,
       "model_id": "d7636d8805fa4935957434c9d780a600"
      },
      "application/json": {
       "n": 0,
       "total": 90888945,
       "elapsed": 0.0,
       "ncols": null,
       "nrows": null,
       "prefix": "Downloading",
       "ascii": false,
       "unit": "B",
       "unit_scale": true,
       "rate": null,
       "bar_format": null,
       "postfix": null,
       "unit_divisor": 1000,
       "initial": 0,
       "colour": null
      }
     },
     "metadata": {},
     "output_type": "display_data"
    },
    {
     "name": "stdout",
     "output_type": "stream",
     "text": [
      "Total Params 22713216\n",
      "Freezing LM params\n"
     ]
    }
   ],
   "execution_count": 18
  }
 ],
 "metadata": {
  "kernelspec": {
   "display_name": "Python 3",
   "language": "python",
   "name": "python3"
  },
  "language_info": {
   "codemirror_mode": {
    "name": "ipython",
    "version": 2
   },
   "file_extension": ".py",
   "mimetype": "text/x-python",
   "name": "python",
   "nbconvert_exporter": "python",
   "pygments_lexer": "ipython2",
   "version": "2.7.6"
  }
 },
 "nbformat": 4,
 "nbformat_minor": 5
}
